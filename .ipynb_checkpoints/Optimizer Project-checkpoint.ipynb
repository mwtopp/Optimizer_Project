{
 "cells": [
  {
   "cell_type": "markdown",
   "id": "ceramic-black",
   "metadata": {},
   "source": [
    "## Introduction\n",
    "\n",
    "The purpose of this project is to develop a resource optimizer for a local authority housing department or similar organisation.\n",
    "\n",
    "A housing department will typically have a large number of potential jobs, including cyclical refurbishments and replacements, upgrades driven by new legislation and other improvements particular to local priorities. The potential jobs will be of various types which could include for example; kitchen replacements, window replacements, insulation upgrades. Jobs are likely to be assigned differing priorities depending on legislative requirements, the organisation's priorities or how long the job has been on the list of potential jobs.\n",
    "\n",
    "There are various resource constraints limiting the housing department's capability to undertake all the potential jobs; the level of funding available, staff availability for the different roles required for a job, contractor (internal or external) capacity to undertake a type of job.\n",
    "\n",
    "The objective of the optimizer is to maximize the number of jobs to be undertaken within the given period, weighted by priority."
   ]
  },
  {
   "cell_type": "markdown",
   "id": "aboriginal-hampshire",
   "metadata": {},
   "source": [
    "## Model Design\n",
    "\n",
    "This project will start with a simplified model.\n",
    "\n",
    "The variables are the number of jobs of each type and each priority to be scheduled in the given period.\n",
    "Job type i with priority j will be denoted x_ij. It is assumed all jobs of the same type are of equal value/require the same resources.\n",
    "\n",
    "\n",
    "### The constraints are:\n",
    "\n",
    "The total budget available to the organisation for the given period will be denoted B. The period is assumed to be the relevant accounting period for the organisation and it is assumed all job resouces are allocated to the particular period. Budget/project value will be measured in £millions. \n",
    "\n",
    "Organisation staff resources in the given period will be denoted S_k for staff type k. Initially I will assume 2 staff types. Staff resources will be measured in person days.\n",
    "\n",
    "Contractor/supplier capacity for job type i in the given period will be denoted C_i.\n",
    "\n",
    "There will be additional constraints limiting the number of jobs of each type and priority scheduled to the number of applicable potential jobs.\n",
    "\n",
    "\n",
    "### The parameters are:\n",
    "\n",
    "Weighting in the objective function for priority j will be denoted p_j.\n",
    "\n",
    "Job costs will be denoted b_i for job type i.\n",
    "\n",
    "Staff requirements for job type i and staff type k will be denoted s_ik.\n",
    "\n",
    "\n",
    "Ideally the solution vector would be integers but integer programming requires more computations. So initially I will solve the problem using the Python scipy.optimize linprog function which will provide a continuous solution. A possible development of the project is to use different function, for example PuLP, to derive an integer solution.\n",
    "\n",
    "Possible developments of the model include:<br>\n",
    "Allowing for jobs of the same type to have different budget values and staff requirements.<br>\n",
    "The contractor constraint could be changed to a total project value rather that number of projects.<br>\n",
    "Increasing the number of staff types."
   ]
  },
  {
   "cell_type": "code",
   "execution_count": 1,
   "id": "noble-photograph",
   "metadata": {},
   "outputs": [],
   "source": [
    "# import modules\n",
    "import pandas as pd\n",
    "import numpy as np\n",
    "import random\n",
    "from matplotlib import pyplot as plt\n",
    "import seaborn as sns\n",
    "from scipy.optimize import linprog"
   ]
  },
  {
   "cell_type": "code",
   "execution_count": 2,
   "id": "skilled-inquiry",
   "metadata": {},
   "outputs": [
    {
     "name": "stdout",
     "output_type": "stream",
     "text": [
      "          Label  Job Type 1  Job Type 2  Job Type 3  Job Type 4  Constraint\n",
      "0        Budget         2.5         1.2         0.9         0.6         100\n",
      "1       Staff 1        75.0        30.0        50.0        20.0        2250\n",
      "2       Staff 2        90.0        50.0        50.0       120.0        5625\n",
      "3  Contractor 1         1.0         0.0         0.0         0.0          25\n",
      "4  Contractor 2         0.0         1.0         0.0         0.0          25\n",
      "5  Contractor 3         0.0         0.0         1.0         0.0          25\n",
      "6  Contractor 4         0.0         0.0         0.0         1.0          15\n"
     ]
    }
   ],
   "source": [
    "# Define the parameters and constraints\n",
    "\n",
    "# I shall assume the total available budget is £100 million\n",
    "B = [100]\n",
    "# Assuming 225 person days per employee and 10 type 1 employees and 25 type 2 employees.\n",
    "S = [2250, 5625]\n",
    "# I shall assume contractor capacity of 25, 25, 25, 15 for job types 1, 2, 3, 4 respectively.\n",
    "C = [25, 25, 25, 15]\n",
    "\n",
    "# I shall give priority 1 jobs a weight of 1.0 and priority 2 and 3 jobs a weight of 0.75 and 0.25 respectively.\n",
    "p = [1.0, 0.75, 0.25]\n",
    "# I shall give job types 1, 2, 3, 4 costs of 2.5, 1.2, 0.9, 0.6 million respectively\n",
    "b = [2.5, 1.2, 0.9, 0.6]\n",
    "# I shall give job types 1, 2, 3, 4 staff type 1 requirement of 75, 30, 50, 20 person days respectively.\n",
    "s_1 = [75, 30, 50, 20]\n",
    "# I shall give job types 1, 2, 3, 4 staff type 2 requirement of 90, 50, 50, 120 person days respectively.\n",
    "s_2 = [90, 50, 50, 120]\n",
    "\n",
    "# Create a dataframe with the constraints and parameters.\n",
    "row_labels = ['Budget', 'Staff 1', 'Staff 2', 'Contractor 1', 'Contractor 2', 'Contractor 3', 'Contractor 4']\n",
    "column_labels = ['Label', 'Job Type 1', 'Job Type 2', 'Job Type 3', 'Job Type 4', 'Constraint']\n",
    "budget = [row_labels[0]] + b + B\n",
    "staff_1 = [row_labels[1]] + s_1 + [S[0]]\n",
    "staff_2 = [row_labels[2]] + s_2 + [S[1]]\n",
    "contractor_1 = [row_labels[3], 1, 0, 0, 0, C[0]]\n",
    "contractor_2 = [row_labels[4], 0, 1, 0, 0, C[1]]\n",
    "contractor_3 = [row_labels[5], 0, 0, 1, 0, C[2]]\n",
    "contractor_4 = [row_labels[6], 0, 0, 0, 1, C[3]]\n",
    "\n",
    "data = [budget, staff_1, staff_2, contractor_1, contractor_2, contractor_3, contractor_4]\n",
    "constraint_df = pd.DataFrame(data, columns = column_labels)\n",
    "\n",
    "print(constraint_df)"
   ]
  },
  {
   "cell_type": "markdown",
   "id": "dying-jesus",
   "metadata": {},
   "source": [
    "### Job Data\n",
    "\n",
    "In the absence of real-world data I will simulate the potential jobs.\n",
    "Initially I will assume there are 4 different job types, 3 different priority categories.\n",
    "\n",
    "The total number of potential jobs will be a random number between 100 and 200.\n",
    "\n",
    "Each potential job will be randomly assigned a job type between 1 and 4. Initially I will assume that each potential job has an equal probability of being each of the 4 job types.\n",
    "\n",
    "Each potential job will be randomly assigned a priority between 1 and 3, with 1 being the highest priority. Initially I will assume that the probability of a potential job having priority 1, 2 or 3 is 0.2, 0.5 and 0.3 respectively."
   ]
  },
  {
   "cell_type": "code",
   "execution_count": 3,
   "id": "mathematical-funeral",
   "metadata": {},
   "outputs": [
    {
     "name": "stdout",
     "output_type": "stream",
     "text": [
      "   job_type  job_priority\n",
      "0         4             2\n",
      "1         2             3\n",
      "2         3             3\n",
      "3         4             2\n",
      "4         3             2\n"
     ]
    }
   ],
   "source": [
    "# set random seed so results are repeatable\n",
    "random.seed(321)\n",
    "\n",
    "# generate the total number of potential jobs\n",
    "N_jobs = random.randint(100, 200)\n",
    "\n",
    "# randomly assign a job type to each job \n",
    "job_type_list = []\n",
    "for job in range(N_jobs):\n",
    "    type = random.randint(1, 4)\n",
    "    job_type_list.append(type)\n",
    "\n",
    "# randomly assign a priority to each job\n",
    "job_priority_list = []\n",
    "for job in range(N_jobs):\n",
    "    rand_num = random.randint(1, 100)\n",
    "    if rand_num <= 20:\n",
    "        priority = 1\n",
    "    elif rand_num <= 70:\n",
    "        priority = 2\n",
    "    else:\n",
    "        priority = 3\n",
    "    job_priority_list.append(priority)\n",
    "\n",
    "# create a dataframe with the job types and priorities\n",
    "job_dict = {'job_type': job_type_list, 'job_priority': job_priority_list}\n",
    "job_df = pd.DataFrame(job_dict)\n",
    "\n",
    "print(job_df.head())"
   ]
  },
  {
   "cell_type": "code",
   "execution_count": 4,
   "id": "supposed-providence",
   "metadata": {},
   "outputs": [
    {
     "name": "stdout",
     "output_type": "stream",
     "text": [
      "Total number of jobs: 135\n",
      "          job_priority\n",
      "job_type              \n",
      "1                   25\n",
      "2                   36\n",
      "3                   44\n",
      "4                   30\n",
      "              job_type\n",
      "job_priority          \n",
      "1                   25\n",
      "2                   72\n",
      "3                   38\n"
     ]
    },
    {
     "data": {
      "image/png": "[encoded data removed]",
      "text/plain": [
       "<Figure size 864x648 with 1 Axes>"
      ]
     },
     "metadata": {},
     "output_type": "display_data"
    }
   ],
   "source": [
    "# investigate the potential jobs\n",
    "# set matplotlib style\n",
    "plt.style.use('fivethirtyeight')\n",
    "\n",
    "# set color palette\n",
    "sns.set_palette('pastel')\n",
    "\n",
    "# summarize the potential jobs\n",
    "print('Total number of jobs: {}'.format(N_jobs))\n",
    "print(job_df.groupby('job_type').count())\n",
    "print(job_df.groupby('job_priority').count())\n",
    "\n",
    "# create a barchart of potential jobs\n",
    "plt.figure(figsize=(12,9))\n",
    "sns.countplot(data=job_df, x='job_type', hue='job_priority')\n",
    "plt.title('Job Types by Priority')\n",
    "\n",
    "plt.show()"
   ]
  },
  {
   "cell_type": "markdown",
   "id": "close-solution",
   "metadata": {},
   "source": [
    "This random selection of potential jobs includes 135 jobs in total. Job type 3 is the most common type with 44 jobs, type 1 is the least common with 25 jobs. The expected number for each type was 33.75 given a total of 135.\n",
    "\n",
    "For each type the most common priority is 2 as expected. Within each job type the distribution of priorities varies, for example there are fewer priority 1 type 2 jobs than expected. Taken over all the types the distribution of priorities is close to the expected values, 25:72:38 compared to 27:67.5:40.5.\n",
    "\n",
    "Generally this sample is not especially extreme and using it for the project should not produce unrepresentative results. "
   ]
  },
  {
   "cell_type": "code",
   "execution_count": 5,
   "id": "thousand-planet",
   "metadata": {},
   "outputs": [
    {
     "name": "stdout",
     "output_type": "stream",
     "text": [
      "{'x_11': 6, 'x_12': 13, 'x_13': 6, 'x_21': 3, 'x_22': 18, 'x_23': 15, 'x_31': 9, 'x_32': 22, 'x_33': 13, 'x_41': 7, 'x_42': 19, 'x_43': 4}\n"
     ]
    }
   ],
   "source": [
    "# Save the maximum number of potential jobs of each type and each priority in a dictionary\n",
    "num_job_types = 4\n",
    "num_priorities = 3\n",
    "\n",
    "max_job_dict = {}\n",
    "for num_job in range(1, num_job_types+1):\n",
    "    for num_priority in range(1, num_priorities+1):\n",
    "        max_job_dict['x_{}{}'.format(num_job, num_priority)] = \\\n",
    "        job_df.job_type[(job_df.job_type == num_job) & (job_df.job_priority == num_priority)].count()\n",
    "\n",
    "print(max_job_dict)"
   ]
  },
  {
   "cell_type": "markdown",
   "id": "public-trinidad",
   "metadata": {},
   "source": [
    "Hence the problem can be defined.\n",
    "\n",
    "maximize x_11 + 0.75x_12 + 0.25x_13 + x_21 + 0.75x_22 + 0.25x_23 + x_31 + 0.75x_32 + 0.25x_33 + x_41 + 0.75x_42 + 0.25x_43\n",
    "\n",
    "subject to\n",
    "1.2(x_11 + x_12 + x_13) + 0.6(x_21 + x_22 + x_23) + 0.5(x_31 + x_32 + x_33) + 0.3(x_41 + x_42 + x_43) <= 100 (Budget)\n",
    "\n",
    "75(x_11 + x_12 + x_13) + 30(x_21 + x_22 + x_23) + 50(x_31 + x_32 + x_33) + 20(x_41 + x_42 + x_43) <= 2250 (Staff Type 1)\n",
    "\n",
    "90(x_11 + x_12 + x_13) + 50(x_21 + x_22 + x_23) + 50(x_31 + x_32 + x_33) + 120(x_41 + x_42 + x_43) <= 5625 (Staff Type 2)\n",
    "\n",
    "x_11 + x_12 + x_13 <= 25 (Contractor Type 1)\n",
    "\n",
    "x_21 + x_22 + x_23 <= 25 (Contractor Type 2)\n",
    "\n",
    "x_31 + x_32 + x_33 <= 25 (Contractor Type 3)\n",
    "\n",
    "x_41 + x_42 + x_43 <= 15 (Contractor Type 4)\n",
    "\n",
    "0 <= x_11 <= max_x_11\n",
    "0 <= x_12 <= max_x_12\n",
    "0 <= x_13 <= max_x_13\n",
    "\n",
    "0 <= x_21 <= max_x_21\n",
    "0 <= x_22 <= max_x_22\n",
    "0 <= x_23 <= max_x_23\n",
    "\n",
    "0 <= x_31 <= max_x_31\n",
    "0 <= x_32 <= max_x_32\n",
    "0 <= x_33 <= max_x_33\n",
    "\n",
    "0 <= x_41 <= max_x_41\n",
    "0 <= x_42 <= max_x_42\n",
    "0 <= x_43 <= max_x_43"
   ]
  },
  {
   "cell_type": "markdown",
   "id": "stuffed-gravity",
   "metadata": {},
   "source": [
    "The model could be developed by omitting the inequality constraints for budget and staff resources and instead incorporating penalty expressions into the objective function. In that way a penalty for going over or under the target budget (for example) could be included representing the desire to utilise the resources as fully as possible whilst allowing for some flexibility in the constraints."
   ]
  },
  {
   "cell_type": "markdown",
   "id": "independent-indication",
   "metadata": {},
   "source": [
    "The problem will need to be transformed into the format accepted by the linprog function.\n",
    "\n",
    "The linprog function only accepts minimization problems so the objective function will be multiplied by -1 and converted to a minimization.\n",
    "\n",
    "minimize -x_11 - 0.75x_12 - 0.25x_13 - x_21 - 0.75x_22 - 0.25x_23 - x_31 - 0.75x_32 - 0.25x_33 - x_41 - 0.75x_42 - 0.25x_43\n",
    "\n",
    "The objective weights vector is c.\n",
    "c = (-1, -0.75, -0.25, -1, -0.75, -0.25, -1, -0.75, -0.25, -1, -0.75, -0.25)\n",
    "\n",
    "linprog accepts 'less-than' inequality constraints so the constraints can be converted directly to matrix form.\n",
    "\n",
    "By default linprog uses (0, inf) for the variable bounds. To limit the maximum I will specify the bounds as tuples. "
   ]
  },
  {
   "cell_type": "code",
   "execution_count": 6,
   "id": "complimentary-rally",
   "metadata": {},
   "outputs": [
    {
     "name": "stdout",
     "output_type": "stream",
     "text": [
      "     con: array([], dtype=float64)\n",
      "     fun: -51.43333312772038\n",
      " message: 'Optimization terminated successfully.'\n",
      "     nit: 10\n",
      "   slack: array([4.09666666e+01, 1.90508172e-06, 1.44100000e+03, 2.40666665e+01,\n",
      "       4.00000000e+00, 2.21812954e-07, 3.60066466e-08])\n",
      "  status: 0\n",
      " success: True\n",
      "       x: array([9.33333370e-01, 7.77486813e-08, 1.75129629e-08, 2.99999997e+00,\n",
      "       1.79999999e+01, 8.92629988e-08, 8.99999994e+00, 1.59999998e+01,\n",
      "       2.83904360e-08, 6.99999994e+00, 7.99999999e+00, 3.05211786e-08])\n"
     ]
    }
   ],
   "source": [
    "# define and solve the model\n",
    "c = np.array([-1, -0.75, -0.25, -1, -0.75, -0.25, -1, -0.75, -0.25, -1, -0.75, -0.25])\n",
    "A_ub = np.array([[2.5, 2.5, 2.5, 1.2, 1.2, 1.2, 0.9, 0.9, 0.9, 0.6, 0.6, 0.6],\n",
    "                [75, 75, 75, 30, 30, 30, 50, 50, 50, 20, 20, 20],\n",
    "                [90, 90, 90, 50, 50, 50, 50, 50, 50, 120, 120, 120],\n",
    "                [1, 1, 1, 0, 0, 0, 0, 0, 0, 0, 0, 0],\n",
    "                [0, 0, 0, 1, 1, 1, 0, 0, 0, 0, 0, 0],\n",
    "                [0, 0, 0, 0, 0, 0, 1, 1, 1, 0, 0, 0],\n",
    "                [0, 0, 0, 0, 0, 0, 0, 0, 0, 1, 1, 1]])\n",
    "b_ub = np.array([100, 2250, 5625, 25, 25, 25, 15])\n",
    "\n",
    "x_11_bounds = (0, max_job_dict['x_11'])\n",
    "x_12_bounds = (0, max_job_dict['x_12'])\n",
    "x_13_bounds = (0, max_job_dict['x_13'])\n",
    "x_21_bounds = (0, max_job_dict['x_21'])\n",
    "x_22_bounds = (0, max_job_dict['x_22'])\n",
    "x_23_bounds = (0, max_job_dict['x_23'])\n",
    "x_31_bounds = (0, max_job_dict['x_31'])\n",
    "x_32_bounds = (0, max_job_dict['x_32'])\n",
    "x_33_bounds = (0, max_job_dict['x_33'])\n",
    "x_41_bounds = (0, max_job_dict['x_41'])\n",
    "x_42_bounds = (0, max_job_dict['x_42'])\n",
    "x_43_bounds = (0, max_job_dict['x_43'])\n",
    "bounds = [x_11_bounds, x_12_bounds, x_13_bounds, x_21_bounds, x_22_bounds, x_23_bounds,\n",
    "          x_31_bounds, x_32_bounds, x_33_bounds, x_41_bounds, x_42_bounds, x_43_bounds]\n",
    "\n",
    "results = linprog(c, A_ub=A_ub, b_ub=b_ub, bounds=bounds)\n",
    "print(results)"
   ]
  },
  {
   "cell_type": "markdown",
   "id": "qualified-istanbul",
   "metadata": {},
   "source": [
    "I will analyse the solution to try and draw useful lessons.\n",
    "\n",
    "Firstly I will compare the number jobs of each type and priority in the solution to the equivalent numbers of potential jobs."
   ]
  },
  {
   "cell_type": "code",
   "execution_count": 7,
   "id": "massive-bernard",
   "metadata": {},
   "outputs": [
    {
     "name": "stdout",
     "output_type": "stream",
     "text": [
      "    job_type  job_priority  number\n",
      "0          1             1     0.9\n",
      "1          1             2     0.0\n",
      "2          1             3     0.0\n",
      "3          2             1     3.0\n",
      "4          2             2    18.0\n",
      "5          2             3     0.0\n",
      "6          3             1     9.0\n",
      "7          3             2    16.0\n",
      "8          3             3     0.0\n",
      "9          4             1     7.0\n",
      "10         4             2     8.0\n",
      "11         4             3     0.0\n"
     ]
    }
   ],
   "source": [
    "# Round solution\n",
    "solution_round = np.round(results.x, 1)\n",
    "\n",
    "# Create a dataframe of the solution\n",
    "solution_dict = {'job_type': [1, 1, 1, 2, 2, 2, 3, 3, 3, 4, 4, 4], 'job_priority': [1, 2, 3] * 4, 'number': solution_round}\n",
    "\n",
    "solution_df = pd.DataFrame(solution_dict)\n",
    "\n",
    "print(solution_df)"
   ]
  },
  {
   "cell_type": "code",
   "execution_count": 8,
   "id": "bibliographic-bibliography",
   "metadata": {},
   "outputs": [
    {
     "name": "stdout",
     "output_type": "stream",
     "text": [
      "    job_type  job_priority  number\n",
      "0          1             1       6\n",
      "1          1             2      13\n",
      "2          1             3       6\n",
      "3          2             1       3\n",
      "4          2             2      18\n",
      "5          2             3      15\n",
      "6          3             1       9\n",
      "7          3             2      22\n",
      "8          3             3      13\n",
      "9          4             1       7\n",
      "10         4             2      19\n",
      "11         4             3       4\n"
     ]
    }
   ],
   "source": [
    "# Create a dataframe of the potential jobs (in same format as solution)\n",
    "potential_dict = {'job_type': [1, 1, 1, 2, 2, 2, 3, 3, 3, 4, 4, 4],\\\n",
    "                  'job_priority': [1, 2, 3] * 4, 'number': max_job_dict.values()}\n",
    "\n",
    "potential_df = pd.DataFrame(potential_dict)\n",
    "\n",
    "print(potential_df)"
   ]
  },
  {
   "cell_type": "code",
   "execution_count": 9,
   "id": "therapeutic-guess",
   "metadata": {},
   "outputs": [
    {
     "data": {
      "image/png": "[encoded data removed]",
      "text/plain": [
       "<Figure size 864x648 with 1 Axes>"
      ]
     },
     "metadata": {},
     "output_type": "display_data"
    }
   ],
   "source": [
    "# create list of labels for the job types/priorities\n",
    "label_list = []\n",
    "for type in range(1,5):\n",
    "    for priority in  range(1,4):\n",
    "        label = f't{type}_p{priority}'\n",
    "        label_list.append(label)\n",
    "\n",
    "# Plot a barchart of the solution compared to the potential jobs\n",
    "plt.figure(figsize=(12,9))\n",
    "plt.bar(max_job_dict.keys(), potential_df['number'], alpha=0.3, color='grey', label='potential')\n",
    "plt.bar(max_job_dict.keys(), solution_df['number'], label='solution')\n",
    "plt.xticks(range(12), label_list)\n",
    "plt.ylabel('number of jobs')\n",
    "plt.legend()\n",
    "\n",
    "plt.savefig('lp_outcome1.png')\n",
    "\n",
    "plt.show()"
   ]
  },
  {
   "cell_type": "markdown",
   "id": "polyphonic-sigma",
   "metadata": {},
   "source": [
    "There are a number of notable features in these results.\n",
    "61.9 jobs are included in the solution from 135 potential jobs.\n",
    "With the exception of job type 1 all the priority 1 jobs are included in the solution.\n",
    "Only 0.9 of a type 1 priority 1 job is included.\n",
    "No priority 3 jobs are included.\n",
    "\n",
    "Next I will compare the utilisation of resources in the solution to the constraint bounds."
   ]
  },
  {
   "cell_type": "code",
   "execution_count": 10,
   "id": "clear-anniversary",
   "metadata": {},
   "outputs": [
    {
     "name": "stdout",
     "output_type": "stream",
     "text": [
      "[5.900e+01 2.250e+03 4.184e+03 9.000e-01 2.100e+01 2.500e+01 1.500e+01]\n",
      "0     59.000000\n",
      "1    100.000000\n",
      "2     74.382222\n",
      "3      3.600000\n",
      "4     84.000000\n",
      "5    100.000000\n",
      "6    100.000000\n",
      "Name: Constraint, dtype: float64\n"
     ]
    }
   ],
   "source": [
    "# Calculate solution resource use\n",
    "sol_resource = np.round(np.matmul(A_ub, results.x), 1)\n",
    "\n",
    "print(sol_resource)\n",
    "\n",
    "# Convert solution resource use to percentages\n",
    "sol_resource_perc = (sol_resource / constraint_df['Constraint']) * 100\n",
    "\n",
    "print(sol_resource_perc)"
   ]
  },
  {
   "cell_type": "code",
   "execution_count": 11,
   "id": "cutting-excitement",
   "metadata": {},
   "outputs": [
    {
     "name": "stdout",
     "output_type": "stream",
     "text": [
      "0    41.0\n",
      "1     0.0\n",
      "2    25.6\n",
      "3    96.3\n",
      "4    16.0\n",
      "5     0.0\n",
      "6     0.0\n",
      "Name: Constraint, dtype: float64\n"
     ]
    }
   ],
   "source": [
    "# Convert slack to percentages\n",
    "slack_perc = round((results.slack / constraint_df['Constraint']) * 100, 1)\n",
    "\n",
    "print(slack_perc)"
   ]
  },
  {
   "cell_type": "code",
   "execution_count": 12,
   "id": "monthly-livestock",
   "metadata": {},
   "outputs": [
    {
     "data": {
      "image/png": "[encoded data removed]",
      "text/plain": [
       "<Figure size 864x648 with 1 Axes>"
      ]
     },
     "metadata": {},
     "output_type": "display_data"
    }
   ],
   "source": [
    "# Plot a barchart showing utilisation of resources\n",
    "plt.figure(figsize=(12,9))\n",
    "\n",
    "plt.bar(range(7), [100] * 7, alpha=0.3, color='grey')\n",
    "\n",
    "plt.bar(range(7), sol_resource_perc)\n",
    "\n",
    "plt.xticks(range(7), constraint_df['Label'], rotation=45)\n",
    "plt.xlabel('Constraint')\n",
    "plt.ylabel('Percentage')\n",
    "\n",
    "plt.show()"
   ]
  },
  {
   "cell_type": "markdown",
   "id": "false-folder",
   "metadata": {},
   "source": [
    "There are a number of notable features in these results.\n",
    "The whole contractor capacity for job types 3 and 4 is utilised.\n",
    "Less than 4% of the contractor capacity for job type 1 is utilised.\n",
    "Over 40% of the budget remains unused."
   ]
  },
  {
   "cell_type": "markdown",
   "id": "adolescent-decision",
   "metadata": {},
   "source": [
    "After repeating the problem, with different random potential jobs, there are a number of consistent trends.\n",
    "\n",
    "Most of the solution vector elements are typically integers. This is likely due to the contractor constraints and the bounds on number of jobs of each type and priority group. This suggests the additional computing resource that would be required to calculate an integer solution would deliver little extra benefit.\n",
    "\n",
    "The solution typically includes none or very few jobs of type 1. This is likely due to the higher staff 1 requirement for job type 1. To avoid a large backlog of priority 1 type 1 jobs it would be necessary to increase the objective function weighting for job type 1.\n",
    "\n",
    "The solution typically includes all the priority 1 jobs of types 2, 3 and 4. Only a few or possibly none of job type 1 are included as discussed above. Also, depending on the total number of potential jobs, a reasonable proportion of priority 2 jobs of type 2, 3 and 4 are included. Again this suggests adjusting the weighting for job type 1 would be useful.\n",
    "\n",
    "The staff 1 constraint is typically active in addition to some or all of the contractor 2, 3 and 4 constraints. Increasing the staff 1 constraint bound would increase the chance of the solution including jobs of type 1. Although without adjusting the weighting that is likely to happen only after the contractor bounds have been reached for job types 2, 3 and 4.\n",
    "\n",
    "An alternative approach is to increase the weighting in the objective function of job type 1 priority. This should increase the likelihood that the model will select some priority 1 jobs of type 1."
   ]
  },
  {
   "cell_type": "code",
   "execution_count": 13,
   "id": "naughty-ready",
   "metadata": {},
   "outputs": [
    {
     "name": "stdout",
     "output_type": "stream",
     "text": [
      "     con: array([], dtype=float64)\n",
      "     fun: -51.69999999937663\n",
      " message: 'Optimization terminated successfully.'\n",
      "     nit: 10\n",
      "   slack: array([3.51400000e+01, 7.19819582e-09, 1.36500000e+03, 1.90000000e+01,\n",
      "       4.00000000e+00, 7.60000000e+00, 1.67240444e-10])\n",
      "  status: 0\n",
      " success: True\n",
      "       x: array([6.00000000e+00, 1.57407162e-10, 3.61585193e-11, 3.00000000e+00,\n",
      "       1.80000000e+01, 1.21364991e-10, 9.00000000e+00, 8.40000000e+00,\n",
      "       7.42003519e-11, 7.00000000e+00, 8.00000000e+00, 1.11912399e-10])\n"
     ]
    }
   ],
   "source": [
    "# adjust the objective weights vector\n",
    "c_1 = np.array([-1.15, -0.75, -0.25, -1, -0.75, -0.25, -1, -0.75, -0.25, -1, -0.75, -0.25])\n",
    "\n",
    "# solve the adjusted model\n",
    "results_1 = linprog(c_1, A_ub=A_ub, b_ub=b_ub, bounds=bounds)\n",
    "print(results_1)"
   ]
  },
  {
   "cell_type": "code",
   "execution_count": 14,
   "id": "tutorial-advisory",
   "metadata": {},
   "outputs": [
    {
     "name": "stdout",
     "output_type": "stream",
     "text": [
      "    job_type  job_priority  number\n",
      "0          1             1     6.0\n",
      "1          1             2     0.0\n",
      "2          1             3     0.0\n",
      "3          2             1     3.0\n",
      "4          2             2    18.0\n",
      "5          2             3     0.0\n",
      "6          3             1     9.0\n",
      "7          3             2     8.4\n",
      "8          3             3     0.0\n",
      "9          4             1     7.0\n",
      "10         4             2     8.0\n",
      "11         4             3     0.0\n"
     ]
    }
   ],
   "source": [
    "# check results\n",
    "# Round solution\n",
    "solution_round_1 = np.round(results_1.x, 1)\n",
    "\n",
    "# Create a dataframe of the solution\n",
    "solution_dict_1 = {'job_type': [1, 1, 1, 2, 2, 2, 3, 3, 3, 4, 4, 4], 'job_priority': [1, 2, 3] * 4,\\\n",
    "                   'number': solution_round_1}\n",
    "\n",
    "solution_df_1 = pd.DataFrame(solution_dict_1)\n",
    "\n",
    "print(solution_df_1)"
   ]
  },
  {
   "cell_type": "code",
   "execution_count": 15,
   "id": "beneficial-reservoir",
   "metadata": {},
   "outputs": [
    {
     "data": {
      "image/png": "[encoded data removed]",
      "text/plain": [
       "<Figure size 864x648 with 1 Axes>"
      ]
     },
     "metadata": {},
     "output_type": "display_data"
    }
   ],
   "source": [
    "# plot results\n",
    "plt.figure(figsize=(12,9))\n",
    "plt.bar(max_job_dict.keys(), potential_df['number'], alpha=0.3, color='grey', label='potential')\n",
    "plt.bar(max_job_dict.keys(), solution_df_1['number'], label='solution')\n",
    "plt.xticks(range(12), label_list)\n",
    "plt.ylabel('number of jobs')\n",
    "plt.legend()\n",
    "\n",
    "plt.savefig('lp_outcome2.png')\n",
    "\n",
    "plt.show()"
   ]
  },
  {
   "cell_type": "code",
   "execution_count": 16,
   "id": "mobile-light",
   "metadata": {},
   "outputs": [
    {
     "data": {
      "image/png": "[encoded data removed]",
      "text/plain": [
       "<Figure size 864x648 with 1 Axes>"
      ]
     },
     "metadata": {},
     "output_type": "display_data"
    }
   ],
   "source": [
    "# Calculate solution resource use\n",
    "sol_resource_1 = np.round(np.matmul(A_ub, results_1.x), 1)\n",
    "\n",
    "# Convert solution resource use to percentages\n",
    "sol_resource_perc_1 = (sol_resource_1 / constraint_df['Constraint']) * 100\n",
    "\n",
    "# Convert slack to percentages\n",
    "slack_perc_1 = round((results_1.slack / constraint_df['Constraint']) * 100, 1)\n",
    "\n",
    "# Plot a barchart showing utilisation of resources\n",
    "plt.figure(figsize=(12,9))\n",
    "\n",
    "plt.bar(range(7), [100] * 7, alpha=0.3, color='grey')\n",
    "\n",
    "plt.bar(range(7), sol_resource_perc_1)\n",
    "\n",
    "plt.xticks(range(7), constraint_df['Label'], rotation=45)\n",
    "plt.xlabel('Constraint')\n",
    "plt.ylabel('Percentage')\n",
    "\n",
    "plt.show()"
   ]
  },
  {
   "cell_type": "markdown",
   "id": "reliable-people",
   "metadata": {},
   "source": [
    "With the weighting of job type 1 priority 1 in the objective function increased to 1.15 there are a few notable changes to the solution.<n>\n",
    "59.4 jobs are included in the solution from 135 potential jobs, 2.5 less than the previous solution.<n>\n",
    "All the priority 1 jobs are included in the solution.<n>\n",
    "Contractor capacity utilisation has increased for type 1 jobs and decreased for type 3 jobs.<n>\n",
    "The budget utilisation has increased slightly."
   ]
  },
  {
   "cell_type": "markdown",
   "id": "requested-professor",
   "metadata": {},
   "source": [
    "### Conclusions and Comments\n",
    "\n",
    "This project is relatively simple, producing the same result manually would be tedious but not very difficult, however it provides proof of concept for the optimization method. Further iterations could increase the complexity of the model and thereby increase the value it provides to an organisation.\n",
    "\n",
    "This project demonstrates the value of testing and tuning the model. Understanding the goals of the organisation and ensuring that the model results are consistent with them is vital if the model is going to provide value. \n",
    "\n",
    "Possible adjustments to the model include:\n",
    "\n",
    "Defining the budget and staff constraints as soft constraints. To reflect the possibility of ad-hoc adjustments to the staff resource, by employing temporary staff or existing staff working overtime, a mechanism allowing the maximum staff resource to be increased could be incorporated into the model. This could be done by adding a penalty expression to the objective function or assigning budget to additional staff resources.\n",
    "\n",
    "Other constraints could be included. Possibly there are more than 2 staff types to consider.\n",
    "\n",
    "The job type categories could allow more customisation. For example some jobs may be smaller or larger than a typical job of the same type and the resource requirements could be adjusted accordingly."
   ]
  }
 ],
 "metadata": {
  "kernelspec": {
   "display_name": "Python 3",
   "language": "python",
   "name": "python3"
  },
  "language_info": {
   "codemirror_mode": {
    "name": "ipython",
    "version": 3
   },
   "file_extension": ".py",
   "mimetype": "text/x-python",
   "name": "python",
   "nbconvert_exporter": "python",
   "pygments_lexer": "ipython3",
   "version": "3.9.0"
  }
 },
 "nbformat": 4,
 "nbformat_minor": 5
}
