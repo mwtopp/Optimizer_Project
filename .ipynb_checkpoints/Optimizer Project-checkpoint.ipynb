{
 "cells": [
  {
   "cell_type": "markdown",
   "id": "liable-question",
   "metadata": {},
   "source": [
    "Optimizer Project\n",
    "\n",
    "The purpose of this project is to develop a resource optimizer for a local authority housing department or similar organisation.\n",
    "\n",
    "A housing department will typically have a large number of potential jobs, including cyclical refurbishments and replacements, upgrades driven by new legislation and other improvements particular to local priorities. The potential jobs will be of various types which could include for example; kitchen replacements, window replacements, insulation upgrades. Jobs are likely to be assigned differing priorities depending on legislative requirements, the organisation's priorities or how long the job has been on the list of potential jobs.\n",
    "\n",
    "There are various resource constraints limiting the housing department's capability to undertake all the potential jobs; the level of funding available, staff availability for the different roles required for a job, contractor (internal or external) capacity to undertake a type of job.\n",
    "\n",
    "The objective of the optimizer is to maximize the number of jobs to be undertaken within the given period, weighted by priority.\n",
    "\n",
    "\n"
   ]
  },
  {
   "cell_type": "markdown",
   "id": "educated-arlington",
   "metadata": {},
   "source": [
    "This project will start with a simplified model.\n",
    "\n",
    "The variables are the number of jobs of each type and each priority to be scheduled in the given period.\n",
    "Job type i with priority j will be denoted x_ij. It is assumed all jobs of the same type are of equal value/require the same resources.\n",
    "\n",
    "\n",
    "The constraints are:\n",
    "\n",
    "The total budget available to the organisation for the given period will be denoted B. The period is assumed to be the relevant accounting period for the organisation and it is assumed all job resouces are allocated to the particular period. Budget/project value will be measured in £millions. \n",
    "\n",
    "Organisation staff resources in the given period will be denoted S_k for staff type k. Initially I will assume 2 staff types. Staff resources will be measured in person days.\n",
    "\n",
    "Contractor/supplier capacity for job type i in the given period will be denoted C_i.\n",
    "\n",
    "There will be additional constraints limiting the number of jobs of each type and priority scheduled to the number of applicable potential jobs.\n",
    "\n",
    "\n",
    "The parameters are:\n",
    "\n",
    "Weighting in the objective function for priority j will be denoted p_j.\n",
    "\n",
    "Job costs will be denoted b_i for job type i.\n",
    "\n",
    "Staff requirements for job type i and staff type k will be denoted s_ik.\n",
    "\n",
    "\n",
    "Ideally the solution vector would be integers but integer programming requires more computations. So initially I will solve the problem using the Python scipy.optimize linprog function which will provide a continuous solution. A possible development of the project is to use different function, for example PuLP, to derive an integer solution.\n",
    "\n",
    "Possible developments of the model include:\n",
    "Allowing for jobs of the same type to have different budget values and staff requirements. The contractor constraint could be changed to a total project value rather that number of projects.\n",
    "Increasing the number of staff types."
   ]
  },
  {
   "cell_type": "code",
   "execution_count": 1,
   "id": "assumed-swift",
   "metadata": {},
   "outputs": [
    {
     "name": "stdout",
     "output_type": "stream",
     "text": [
      "          Label  Job Type 1  Job Type 2  Job Type 3  Job Type 4  Constraint\n",
      "0        Budget         2.5         1.2         0.9         0.6         100\n",
      "1       Staff 1        75.0        30.0        50.0        20.0        2250\n",
      "2       Staff 2        90.0        50.0        50.0       120.0        5625\n",
      "3  Contractor 1         1.0         0.0         0.0         0.0          25\n",
      "4  Contractor 2         0.0         1.0         0.0         0.0          25\n",
      "5  Contractor 3         0.0         0.0         1.0         0.0          25\n",
      "6  Contractor 4         0.0         0.0         0.0         1.0          15\n"
     ]
    }
   ],
   "source": [
    "import pandas as pd\n",
    "\n",
    "# Define the parameters and constraints\n",
    "\n",
    "# I shall assume the total available budget is £100 million\n",
    "B = [100]\n",
    "# Assuming 225 person days per employee and 10 type 1 employees and 25 type 2 employees.\n",
    "S = [2250, 5625]\n",
    "# I shall assume contractor capacity of 25, 25, 25, 15 for job types 1, 2, 3, 4 respectively.\n",
    "C = [25, 25, 25, 15]\n",
    "\n",
    "# I shall give priority 1 jobs a weight of 1.0 and priority 2 and 3 jobs a weight of 0.75 and 0.25 respectively.\n",
    "p = [1.0, 0.75, 0.25]\n",
    "# I shall give job types 1, 2, 3, 4 costs of 2.5, 1.2, 0.9, 0.6 million respectively\n",
    "b = [2.5, 1.2, 0.9, 0.6]\n",
    "# I shall give job types 1, 2, 3, 4 staff type 1 requirement of 75, 30, 50, 20 person days respectively.\n",
    "s_1 = [75, 30, 50, 20]\n",
    "# I shall give job types 1, 2, 3, 4 staff type 2 requirement of 90, 50, 50, 120 person days respectively.\n",
    "s_2 = [90, 50,50, 120]\n",
    "\n",
    "# Create a dataframe with the constraints and parameters.\n",
    "row_labels = ['Budget', 'Staff 1', 'Staff 2', 'Contractor 1', 'Contractor 2', 'Contractor 3', 'Contractor 4']\n",
    "column_labels = ['Label', 'Job Type 1', 'Job Type 2', 'Job Type 3', 'Job Type 4', 'Constraint']\n",
    "budget = [row_labels[0]] + b + B\n",
    "staff_1 = [row_labels[1]] + s_1 + [S[0]]\n",
    "staff_2 = [row_labels[2]] + s_2 + [S[1]]\n",
    "contractor_1 = [row_labels[3], 1, 0, 0, 0, C[0]]\n",
    "contractor_2 = [row_labels[4], 0, 1, 0, 0, C[1]]\n",
    "contractor_3 = [row_labels[5], 0, 0, 1, 0, C[2]]\n",
    "contractor_4 = [row_labels[6], 0, 0, 0, 1, C[3]]\n",
    "\n",
    "data = [budget, staff_1, staff_2, contractor_1, contractor_2, contractor_3, contractor_4]\n",
    "constraint_df = pd.DataFrame(data, columns = column_labels)\n",
    "\n",
    "print(constraint_df)"
   ]
  },
  {
   "cell_type": "markdown",
   "id": "starting-cycling",
   "metadata": {},
   "source": [
    "Job Data\n",
    "\n",
    "In the absence of real-world data I will simulate the potential jobs.\n",
    "Initially I will assume there are 4 different job types, 3 different priority categories.\n",
    "\n",
    "The total number of potential jobs will be a random number between 100 and 200.\n",
    "\n",
    "Each potential job will be randomly assigned a job type between 1 and 4. Initially I will assume that each potential job has an equal probability of being each of the 4 job types.\n",
    "\n",
    "Each potential job will be randomly assigned a priority between 1 and 3, with 1 being the highest priority. Initially I will assume that the probability of a potential job having priority 1, 2 or 3 is 0.2, 0.5 and 0.3 respectively.\n",
    "\n"
   ]
  },
  {
   "cell_type": "code",
   "execution_count": 19,
   "id": "emotional-assessment",
   "metadata": {},
   "outputs": [
    {
     "name": "stdout",
     "output_type": "stream",
     "text": [
      "   job_type  job_priority\n",
      "0         1             2\n",
      "1         2             1\n",
      "2         3             3\n",
      "3         2             3\n",
      "4         2             1\n"
     ]
    }
   ],
   "source": [
    "import random\n",
    "\n",
    "# generate the total number of potential jobs\n",
    "N_jobs = random.randint(100, 200)\n",
    "\n",
    "# randomly assign a job type to each job \n",
    "job_type_list = []\n",
    "for job in range(N_jobs):\n",
    "    type = random.randint(1, 4)\n",
    "    job_type_list.append(type)\n",
    "\n",
    "# randomly assign a priority to each job\n",
    "job_priority_list = []\n",
    "for job in range(N_jobs):\n",
    "    rand_num = random.randint(1, 100)\n",
    "    if rand_num <= 20:\n",
    "        priority = 1\n",
    "    elif rand_num <= 70:\n",
    "        priority = 2\n",
    "    else:\n",
    "        priority = 3\n",
    "    job_priority_list.append(priority)\n",
    "\n",
    "# create a dataframe with the job types and priorities\n",
    "job_dict = {'job_type': job_type_list, 'job_priority': job_priority_list}\n",
    "job_df = pd.DataFrame(job_dict)\n",
    "\n",
    "print(job_df.head())\n"
   ]
  },
  {
   "cell_type": "code",
   "execution_count": 20,
   "id": "celtic-comment",
   "metadata": {},
   "outputs": [
    {
     "name": "stdout",
     "output_type": "stream",
     "text": [
      "Total number of jobs: 153\n",
      "          job_priority\n",
      "job_type              \n",
      "1                   35\n",
      "2                   38\n",
      "3                   48\n",
      "4                   32\n",
      "              job_type\n",
      "job_priority          \n",
      "1                   32\n",
      "2                   66\n",
      "3                   55\n"
     ]
    },
    {
     "data": {
      "image/png": "[encoded data removed]",
      "text/plain": [
       "<Figure size 432x288 with 1 Axes>"
      ]
     },
     "metadata": {
      "needs_background": "light"
     },
     "output_type": "display_data"
    }
   ],
   "source": [
    "from matplotlib import pyplot as plt\n",
    "import seaborn as sns\n",
    "\n",
    "# set color palette\n",
    "sns.set_palette('pastel')\n",
    "\n",
    "# investigate the potential jobs\n",
    "print('Total number of jobs: {}'.format(N_jobs))\n",
    "print(job_df.groupby('job_type').count())\n",
    "print(job_df.groupby('job_priority').count())\n",
    "\n",
    "# create a barchart of potential jobs\n",
    "sns.countplot(data=job_df, x='job_type', hue='job_priority')\n",
    "plt.title('Job Types by Priority')\n",
    "plt.show()"
   ]
  },
  {
   "cell_type": "code",
   "execution_count": 21,
   "id": "conscious-profession",
   "metadata": {},
   "outputs": [
    {
     "name": "stdout",
     "output_type": "stream",
     "text": [
      "{'x_11': 10, 'x_12': 13, 'x_13': 12, 'x_21': 8, 'x_22': 15, 'x_23': 15, 'x_31': 10, 'x_32': 23, 'x_33': 15, 'x_41': 4, 'x_42': 15, 'x_43': 13}\n"
     ]
    }
   ],
   "source": [
    "# Save the maximum number of potential jobs of each type and each priority in a dictionary\n",
    "num_job_types = 4\n",
    "num_priorities = 3\n",
    "\n",
    "max_job_dict = {}\n",
    "for num_job in range(1, num_job_types+1):\n",
    "    for num_priority in range(1, num_priorities+1):\n",
    "        max_job_dict['x_{}{}'.format(num_job, num_priority)] = \\\n",
    "        job_df.job_type[(job_df.job_type == num_job) & (job_df.job_priority == num_priority)].count()\n",
    "\n",
    "print(max_job_dict)"
   ]
  },
  {
   "cell_type": "markdown",
   "id": "going-patent",
   "metadata": {},
   "source": [
    "Hence the problem can be defined.\n",
    "\n",
    "maximize x_11 + 0.75x_12 + 0.25x_13 + x_21 + 0.75x_22 + 0.25x_23 + x_31 + 0.75x_32 + 0.25x_33 + x_41 + 0.75x_42 + 0.25x_43\n",
    "\n",
    "subject to\n",
    "1.2(x_11 + x_12 + x_13) + 0.6(x_21 + x_22 + x_23) + 0.5(x_31 + x_32 + x_33) + 0.3(x_41 + x_42 + x_43) <= 100 (Budget)\n",
    "\n",
    "75(x_11 + x_12 + x_13) + 30(x_21 + x_22 + x_23) + 50(x_31 + x_32 + x_33) + 20(x_41 + x_42 + x_43) <= 2250 (Staff Type 1)\n",
    "\n",
    "90(x_11 + x_12 + x_13) + 50(x_21 + x_22 + x_23) + 50(x_31 + x_32 + x_33) + 120(x_41 + x_42 + x_43) <= 5625 (Staff Type 2)\n",
    "\n",
    "x_11 + x_12 + x_13 <= 25 (Contractor Type 1)\n",
    "\n",
    "x_21 + x_22 + x_23 <= 25 (Contractor Type 2)\n",
    "\n",
    "x_31 + x_32 + x_33 <= 25 (Contractor Type 3)\n",
    "\n",
    "x_41 + x_42 + x_43 <= 15 (Contractor Type 4)\n",
    "\n",
    "0 <= x_11 <= max_x_11\n",
    "0 <= x_12 <= max_x_12\n",
    "0 <= x_13 <= max_x_13\n",
    "\n",
    "0 <= x_21 <= max_x_21\n",
    "0 <= x_22 <= max_x_22\n",
    "0 <= x_23 <= max_x_23\n",
    "\n",
    "0 <= x_31 <= max_x_31\n",
    "0 <= x_32 <= max_x_32\n",
    "0 <= x_33 <= max_x_33\n",
    "\n",
    "0 <= x_41 <= max_x_41\n",
    "0 <= x_42 <= max_x_42\n",
    "0 <= x_43 <= max_x_43"
   ]
  },
  {
   "cell_type": "markdown",
   "id": "loved-functionality",
   "metadata": {},
   "source": [
    "The model could be developed by omitting the inequality constraints for budget and staff resources and instead incorporating penalty expressions into the objective function. In that way a penalty for going over or under the target budget (for example) could be included representing the desire to utilise the resources as fully as possible whilst allowing for some flexibility in the constraints."
   ]
  },
  {
   "cell_type": "markdown",
   "id": "applicable-session",
   "metadata": {},
   "source": [
    "The problem will need to be transformed into the format accepted by the linprog function.\n",
    "\n",
    "The linprog function only accepts minimization problems so the objective function will be multiplied by -1 and converted to a minimization.\n",
    "\n",
    "minimize -x_11 - 0.75x_12 - 0.25x_13 - x_21 - 0.75x_22 - 0.25x_23 - x_31 - 0.75x_32 - 0.25x_33 - x_41 - 0.75x_42 - 0.25x_43\n",
    "\n",
    "The objective weights vector is c.\n",
    "c = (-1, -0.75, -0.25, -1, -0.75, -0.25, -1, -0.75, -0.25, -1, -0.75, -0.25)\n",
    "\n",
    "linprog accepts 'less-than' inequality constraints so the constraints can be converted directly to matrix form.\n",
    "\n",
    "By default linprog uses (0, inf) for the variable bounds. To limit the maximum I will specify the bounds as tuples. "
   ]
  },
  {
   "cell_type": "code",
   "execution_count": 33,
   "id": "honest-african",
   "metadata": {},
   "outputs": [
    {
     "name": "stdout",
     "output_type": "stream",
     "text": [
      "     con: array([], dtype=float64)\n",
      "     fun: -52.88333281907771\n",
      " message: 'Optimization terminated successfully.'\n",
      "     nit: 11\n",
      "   slack: array([4.05666661e+01, 3.99201872e-06, 1.41300000e+03, 2.48666661e+01,\n",
      "       1.99999990e+00, 9.39466624e-07, 8.73862334e-08])\n",
      "  status: 0\n",
      " success: True\n",
      "       x: array([1.33333758e-01, 8.59853509e-08, 4.75470576e-08, 7.99999993e+00,\n",
      "       1.49999999e+01, 2.90299493e-07, 9.99999984e+00, 1.49999991e+01,\n",
      "       7.69288932e-08, 3.99999985e+00, 1.10000000e+01, 7.70744921e-08])\n"
     ]
    }
   ],
   "source": [
    "from scipy.optimize import linprog\n",
    "import numpy as np\n",
    "\n",
    "c = np.array([-1, -0.75, -0.25, -1, -0.75, -0.25, -1, -0.75, -0.25, -1, -0.75, -0.25])\n",
    "A_ub = np.array([[2.5, 2.5, 2.5, 1.2, 1.2, 1.2, 0.9, 0.9, 0.9, 0.6, 0.6, 0.6],\n",
    "                [75, 75, 75, 30, 30, 30, 50, 50, 50, 20, 20, 20],\n",
    "                [90, 90, 90, 50, 50, 50, 50, 50, 50, 120, 120, 120],\n",
    "                [1, 1, 1, 0, 0, 0, 0, 0, 0, 0, 0, 0],\n",
    "                [0, 0, 0, 1, 1, 1, 0, 0, 0, 0, 0, 0],\n",
    "                [0, 0, 0, 0, 0, 0, 1, 1, 1, 0, 0, 0],\n",
    "                [0, 0, 0, 0, 0, 0, 0, 0, 0, 1, 1, 1]])\n",
    "b_ub = np.array([100, 2250, 5625, 25, 25, 25, 15])\n",
    "\n",
    "x_11_bounds = (0, max_job_dict['x_11'])\n",
    "x_12_bounds = (0, max_job_dict['x_12'])\n",
    "x_13_bounds = (0, max_job_dict['x_13'])\n",
    "x_21_bounds = (0, max_job_dict['x_21'])\n",
    "x_22_bounds = (0, max_job_dict['x_22'])\n",
    "x_23_bounds = (0, max_job_dict['x_23'])\n",
    "x_31_bounds = (0, max_job_dict['x_31'])\n",
    "x_32_bounds = (0, max_job_dict['x_32'])\n",
    "x_33_bounds = (0, max_job_dict['x_33'])\n",
    "x_41_bounds = (0, max_job_dict['x_41'])\n",
    "x_42_bounds = (0, max_job_dict['x_42'])\n",
    "x_43_bounds = (0, max_job_dict['x_43'])\n",
    "bounds = [x_11_bounds, x_12_bounds, x_13_bounds, x_21_bounds, x_22_bounds, x_23_bounds,\n",
    "          x_31_bounds, x_32_bounds, x_33_bounds, x_41_bounds, x_42_bounds, x_43_bounds]\n",
    "\n",
    "results = linprog(c, A_ub=A_ub, b_ub=b_ub, bounds=bounds)\n",
    "print(results)"
   ]
  },
  {
   "cell_type": "markdown",
   "id": "advisory-start",
   "metadata": {},
   "source": [
    "I will analyse the solution to try and draw useful lessons.\n",
    "\n",
    "Firstly I will compare the number jobs of each type and priority in the solution to the equivalent numbers of potential jobs.\n",
    "\n",
    "Next I will compare the utilisation of resources in the solution to the constraint bounds."
   ]
  },
  {
   "cell_type": "code",
   "execution_count": 34,
   "id": "stretch-button",
   "metadata": {},
   "outputs": [
    {
     "name": "stdout",
     "output_type": "stream",
     "text": [
      "    job_type  job_priority  number\n",
      "0          1             1     0.1\n",
      "1          1             2     0.0\n",
      "2          1             3     0.0\n",
      "3          2             1     8.0\n",
      "4          2             2    15.0\n",
      "5          2             3     0.0\n",
      "6          3             1    10.0\n",
      "7          3             2    15.0\n",
      "8          3             3     0.0\n",
      "9          4             1     4.0\n",
      "10         4             2    11.0\n",
      "11         4             3     0.0\n"
     ]
    }
   ],
   "source": [
    "# Round solution\n",
    "solution_round = np.round(results.x, 1)\n",
    "\n",
    "# Create a dataframe of the solution\n",
    "solution_dict = {'job_type': [1, 1, 1, 2, 2, 2, 3, 3, 3, 4, 4, 4], 'job_priority': [1, 2, 3] * 4, 'number': solution_round}\n",
    "\n",
    "solution_df = pd.DataFrame(solution_dict)\n",
    "\n",
    "print(solution_df)"
   ]
  },
  {
   "cell_type": "code",
   "execution_count": 35,
   "id": "helpful-dakota",
   "metadata": {},
   "outputs": [
    {
     "name": "stdout",
     "output_type": "stream",
     "text": [
      "    job_type  job_priority  number\n",
      "0          1             1      10\n",
      "1          1             2      13\n",
      "2          1             3      12\n",
      "3          2             1       8\n",
      "4          2             2      15\n",
      "5          2             3      15\n",
      "6          3             1      10\n",
      "7          3             2      23\n",
      "8          3             3      15\n",
      "9          4             1       4\n",
      "10         4             2      15\n",
      "11         4             3      13\n"
     ]
    }
   ],
   "source": [
    "# Create a dataframe of the potential jobs (in same format as solution)\n",
    "potential_dict = {'job_type': [1, 1, 1, 2, 2, 2, 3, 3, 3, 4, 4, 4], 'job_priority': [1, 2, 3] * 4, 'number': max_job_dict.values()}\n",
    "\n",
    "potential_df = pd.DataFrame(potential_dict)\n",
    "\n",
    "print(potential_df)"
   ]
  },
  {
   "cell_type": "code",
   "execution_count": 36,
   "id": "opponent-monster",
   "metadata": {},
   "outputs": [
    {
     "data": {
      "image/png": "[encoded data removed]",
      "text/plain": [
       "<Figure size 432x288 with 1 Axes>"
      ]
     },
     "metadata": {
      "needs_background": "light"
     },
     "output_type": "display_data"
    }
   ],
   "source": [
    "# Plot a barchart of the solution compared to the potential jobs\n",
    "plt.bar(max_job_dict.keys(), potential_df['number'], alpha=0.3, color='grey')\n",
    "\n",
    "plt.bar(max_job_dict.keys(), solution_df['number'])\n",
    "\n",
    "plt.show()"
   ]
  },
  {
   "cell_type": "code",
   "execution_count": 37,
   "id": "guided-chick",
   "metadata": {},
   "outputs": [
    {
     "name": "stdout",
     "output_type": "stream",
     "text": [
      "[5.940e+01 2.250e+03 4.212e+03 1.000e-01 2.300e+01 2.500e+01 1.500e+01]\n",
      "0     59.40\n",
      "1    100.00\n",
      "2     74.88\n",
      "3      0.40\n",
      "4     92.00\n",
      "5    100.00\n",
      "6    100.00\n",
      "Name: Constraint, dtype: float64\n"
     ]
    }
   ],
   "source": [
    "# Calculate solution resource use\n",
    "sol_resource = np.round(np.matmul(A_ub, results.x), 1)\n",
    "\n",
    "print(sol_resource)\n",
    "\n",
    "# Convert solution resource use to percentages\n",
    "sol_resource_perc = (sol_resource / constraint_df['Constraint']) * 100\n",
    "\n",
    "print(sol_resource_perc)"
   ]
  },
  {
   "cell_type": "code",
   "execution_count": 38,
   "id": "governmental-diagnosis",
   "metadata": {},
   "outputs": [
    {
     "name": "stdout",
     "output_type": "stream",
     "text": [
      "0    40.6\n",
      "1     0.0\n",
      "2    25.1\n",
      "3    99.5\n",
      "4     8.0\n",
      "5     0.0\n",
      "6     0.0\n",
      "Name: Constraint, dtype: float64\n"
     ]
    }
   ],
   "source": [
    "# Convert slack to percentages\n",
    "slack_perc = round((results.slack / constraint_df['Constraint']) * 100, 1)\n",
    "\n",
    "print(slack_perc)"
   ]
  },
  {
   "cell_type": "code",
   "execution_count": 39,
   "id": "systematic-aging",
   "metadata": {},
   "outputs": [
    {
     "data": {
      "image/png": "[encoded data removed]",
      "text/plain": [
       "<Figure size 432x288 with 1 Axes>"
      ]
     },
     "metadata": {
      "needs_background": "light"
     },
     "output_type": "display_data"
    }
   ],
   "source": [
    "# Plot a barchart showing utilisation of resources\n",
    "ax = plt.subplot()\n",
    "\n",
    "plt.bar(range(7), [100] * 7, alpha=0.3, color='grey')\n",
    "\n",
    "plt.bar(range(7), sol_resource_perc)\n",
    "\n",
    "ax.set_xticks(range(7))\n",
    "ax.set_xticklabels(constraint_df['Label'], rotation=45)\n",
    "plt.xlabel('Constraint')\n",
    "plt.ylabel('Percentage')\n",
    "\n",
    "plt.show()"
   ]
  },
  {
   "cell_type": "markdown",
   "id": "active-memorabilia",
   "metadata": {},
   "source": [
    "After repeating the problem, with different random potential jobs, there are a number of consistent trends.\n",
    "\n",
    "Most of the solution vector elements are typically integers. This is likely due to the contractor constraints and the bounds on number of jobs of each type and priority group. This suggests the additional computing resource that would be required to calculate an integer solution would deliver little extra benefit.\n",
    "\n",
    "The solution typically includes none or very few jobs of type 1. This is likely due to the higher staff 1 requirement for job type 1. To avoid a large backlog of priority 1 type 1 jobs it would be necessary to increase the objective function weighting for job type 1.\n",
    "\n",
    "The solution typically includes all the priority 1 jobs of types 2, 3 and 4. Only a few or possibly none of job type 1 are included as discussed above. Also, depending on the total number of potential jobs, a reasonable proportion of priority 2 jobs of type 2, 3 and 4 are included. Again this suggests adjusting the weighting for job type 1 would be useful.\n",
    "\n",
    "The staff 1 constraint is typically active in addition to some or all of the contractor 2, 3 and 4 constraints. Increasing the staff 1 constraint bound would increase the chance of the solution including jobs of type 1. Although without adjusting the weighting that is likely to happen only after the contractor bounds have been reached for job types 2, 3 and 4.\n",
    "\n",
    "Possible adjustments to the model include:\n",
    "\n",
    "Defining the budget and staff constraints as soft constraints. To reflect the possibility of ad-hoc adjustments to the staff resource, by employing temporary staff or existing staff working overtime, a mechanism allowing the maximum staff resource to be increased could be incorporated into the model. This could be done by adding a penalty expression to the objective function or assigning budget to additional staff resources.\n",
    "\n",
    "Experimentation shows that increasing the weighting in the objective function of job type 1 priority 1 to 1.15 results in the model typically selecting all the priority 1 jobs of type 1.  \n"
   ]
  }
 ],
 "metadata": {
  "kernelspec": {
   "display_name": "Python 3",
   "language": "python",
   "name": "python3"
  },
  "language_info": {
   "codemirror_mode": {
    "name": "ipython",
    "version": 3
   },
   "file_extension": ".py",
   "mimetype": "text/x-python",
   "name": "python",
   "nbconvert_exporter": "python",
   "pygments_lexer": "ipython3",
   "version": "3.9.0"
  }
 },
 "nbformat": 4,
 "nbformat_minor": 5
}
